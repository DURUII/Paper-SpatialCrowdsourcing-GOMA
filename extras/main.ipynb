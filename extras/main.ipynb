{
 "cells": [
  {
   "cell_type": "markdown",
   "metadata": {},
   "source": [
    "# Introduction\n",
    "\n",
    "## Explanation 1.1: Linear Programming\n",
    "\n",
    "In the offline scenario, the total utility of the optimal task assignment, which is marked in red in TABLE 1, is 17.\n",
    "\n",
    "|    | t1 | t2 | t3 | t4 | t5 | t6 |\n",
    "|----|----|----|----|----|----|----|\n",
    "| w1(1) |  7  |  1   |    |    |    |    |\n",
    "| w2(3) |    |     |  1  |    |    |    |\n",
    "| w3(2) |    |    |   9 |  1  |  1  |  1  |"
   ]
  },
  {
   "cell_type": "code",
   "execution_count": 15,
   "metadata": {},
   "outputs": [
    {
     "data": {
      "text/plain": [
       "-17.0"
      ]
     },
     "execution_count": 15,
     "metadata": {},
     "output_type": "execute_result"
    }
   ],
   "source": [
    "from scipy.optimize import linprog\n",
    "import numpy as np\n",
    "\n",
    "c = -np.array([7, 1, 0, 0, 0, 0,\n",
    "               0, 0, 1, 0, 0, 0,\n",
    "               0, 0, 9, 1, 1, 1\n",
    "               ])\n",
    "\n",
    "A_ub = [[1, 1, 1, 1, 1, 1, 0, 0, 0, 0, 0, 0, 0, 0, 0, 0, 0, 0],\n",
    "        [0, 0, 0, 0, 0, 0, 1, 1, 1, 1, 1, 1, 0, 0, 0, 0, 0, 0],\n",
    "        [0, 0, 0, 0, 0, 0, 0, 0, 0, 0, 0, 0, 1, 1, 1, 1, 1, 1],\n",
    "        [1, 0, 0, 0, 0, 0, 1, 0, 0, 0, 0, 0, 1, 0, 0, 0, 0, 0],\n",
    "        [0, 1, 0, 0, 0, 0, 0, 1, 0, 0, 0, 0, 0, 1, 0, 0, 0, 0],\n",
    "        [0, 0, 1, 0, 0, 0, 0, 0, 1, 0, 0, 0, 0, 0, 1, 0, 0, 0],\n",
    "        [0, 0, 0, 1, 0, 0, 0, 0, 0, 1, 0, 0, 0, 0, 0, 1, 0, 0],\n",
    "        [0, 0, 0, 0, 1, 0, 0, 0, 0, 0, 1, 0, 0, 0, 0, 0, 1, 0],\n",
    "        [0, 0, 0, 0, 0, 1, 0, 0, 0, 0, 0, 1, 0, 0, 0, 0, 0, 1],\n",
    "        ]\n",
    "\n",
    "b_ub = [1, 3, 2, 1, 1, 1, 1, 1, 1]\n",
    "\n",
    "bounds = [(0, 1) for _ in range(18)]\n",
    "\n",
    "res = linprog(c=c, A_ub=A_ub, b_ub=b_ub, bounds=bounds, integrality=1)\n",
    "\n",
    "res.fun"
   ]
  },
  {
   "cell_type": "code",
   "execution_count": 16,
   "metadata": {},
   "outputs": [
    {
     "data": {
      "text/plain": [
       "array([ 1.,  0.,  0.,  0.,  0.,  0.,  0.,  0., -0.,  0.,  0.,  0.,  0.,\n",
       "        0.,  1.,  0.,  0.,  1.])"
      ]
     },
     "execution_count": 16,
     "metadata": {},
     "output_type": "execute_result"
    }
   ],
   "source": [
    "res.x"
   ]
  },
  {
   "cell_type": "markdown",
   "metadata": {},
   "source": [
    "## Explanation 1.2\n",
    "\n",
    "The GOMA problem, which generalizes the OMWBM problem, mainly differs from the OMWBM problem in that both the tasks and the workers are dynamic. \n",
    "\n",
    "| Timestamp | 0  | 1  | 2 | 7 | 8 | 9 | 9 | 15 | 18 |\n",
    "|-----------|----|----|---|---|---|---|---|----|----|\n",
    "| 1st order | t1 | t2 | w1  | w2  | t3  | t4  | w3  | t5   | t6   |\n",
    "| 2nd order | w1 | t1   | t2  | t3  | w3  | t4  | w2  | t6   | t5   |\n",
    "\n",
    "see Keynote."
   ]
  },
  {
   "cell_type": "markdown",
   "metadata": {},
   "source": [
    "# Problem Statement\n",
    "\n",
    "Dataset Format Explanation:\n",
    "\n",
    "## Header\n",
    "\n",
    "| workerN/n | taskN/m  | Umax  | sumC |\n",
    "|-----------|----|----|---|\n",
    "| 817 | 4036 | 10.000000 | 4853  | \n",
    "\n",
    "## Task\n",
    "\n",
    "| begTime | stype  | loc.first  | loc.second | endTime | cost.pay |\n",
    "|-----------|----|----|---|----|---|\n",
    "| 74875 | t | 1.790979 | 1.725669  |  600 | 3.6|\n",
    "\n",
    "\n",
    "## Worker\n",
    "\n",
    "| begTime | stype  | loc.first  | loc.second | rad | cap | endTime | cost.rate |\n",
    "|-----------|----|----|---|---|---|---|---|\n",
    "| 444046 | w |1.230049 |1.007416 |1.000000| 1| 600 |0.597888|"
   ]
  },
  {
   "cell_type": "code",
   "execution_count": 22,
   "metadata": {},
   "outputs": [],
   "source": [
    "from typing import Tuple, Self\n",
    "import os\n",
    "\n",
    "\n",
    "class Vertex:\n",
    "    \"\"\"Either a task or a worker. \"\"\"\n",
    "\n",
    "    def __init__(self, arrival_time: int, location: Tuple[float],  deadline: int) -> None:\n",
    "        assert len(location) == 2\n",
    "        self.arrival_time = arrival_time\n",
    "        self.location = location\n",
    "        self.deadline = deadline\n",
    "\n",
    "    def distance_from(self, v: Self):\n",
    "        x1, y1 = self.location\n",
    "        x2, y2 = v.location\n",
    "        return ((x1-x2)**2+(y1-y2)**2)**(1/2)\n",
    "\n",
    "\n",
    "class Worker(Vertex):\n",
    "    \"\"\"A worker is a tuple <L, A, D, R, C, Delta>, who arrives at the initial location L in the 2D space, \n",
    "    at time A. He/She can perform several tasks that arrive at the platform before his/her response deadline D\n",
    "    with several constraints:\n",
    "    1. He/She can perform at most C tasks (i.e., his/her capacity); \n",
    "    2. He/She can only perform tasks posted within a circular range centered at L and with a radius of R;\n",
    "    3. Delta is the success ratio based on his/her historical task completion records.\n",
    "    \"\"\"\n",
    "\n",
    "    def __init__(self, arrival_time: int, location: Tuple[float], radius: float, capacity: int, deadline: int, success_ratio: float) -> None:\n",
    "        assert 0 < success_ratio <= 1\n",
    "        super().__init__(arrival_time, location, deadline)\n",
    "        self.radius = radius\n",
    "        self.capacity = capacity\n",
    "        self.success_ratio = success_ratio\n",
    "\n",
    "    def __str__(self) -> str:\n",
    "        return f\"w: loc = {self.location}, rad = {self.radius:.2f}, cap = {self.capacity}, time = ({self.arrival_time}, {self.deadline}), success_ratio = {self.success_ratio:.2f}\"\n",
    "\n",
    "\n",
    "class Task(Vertex):\n",
    "    \"\"\"A task is a tuple <L, A, D, P>, which is posted at the location L in 2D space, at time A. \n",
    "    It can only be allocated to a worker who arrives before the response deadline D, with a payoff P.\n",
    "\n",
    "    In the given dataset:\n",
    "    A, D-A are an integer timestamp;\n",
    "    L is composed by x, y float values;\n",
    "    P is a float value.\n",
    "    \"\"\"\n",
    "\n",
    "    def __init__(self, arrival_time: int, location: Tuple[float], deadline: int, payoff: float) -> None:\n",
    "        super().__init__(arrival_time, location, deadline)\n",
    "        self.payoff = payoff\n",
    "\n",
    "    def __str__(self) -> str:\n",
    "        return f\"t: loc = {self.location}, time = ({self.arrival_time}, {self.deadline}), payoff = {self.payoff}\"\n",
    "\n",
    "    def utility_performed_by(self, worker: type[Worker]):\n",
    "        \"\"\"The utility that a worker performs a task is measured by P_t * Delta_w.\n",
    "        Without loss of generality, we assume that utility is between 0 and U_max.\n",
    "        \"\"\"\n",
    "        return self.payoff * worker.success_ratio"
   ]
  },
  {
   "cell_type": "markdown",
   "metadata": {},
   "source": [
    "Based on different assumptions on the arrival order, we introduce two competitive analysis models for the GOMA problem, the adversarial\n",
    "order model and the random order model, which focus on the\n",
    "worst-case arrival order and the stochastic arrival order of\n",
    "all the tasks and workers, respectively."
   ]
  },
  {
   "cell_type": "code",
   "execution_count": 26,
   "metadata": {},
   "outputs": [
    {
     "data": {
      "text/plain": [
       "<__main__.GOMA at 0x1225da2d0>"
      ]
     },
     "execution_count": 26,
     "metadata": {},
     "output_type": "execute_result"
    }
   ],
   "source": [
    "class GOMA:\n",
    "    \"\"\"Given a set of tasks T, a set of workers W, and a utility function U (., .),\n",
    "    the GOMA problem is to find an allocation M \n",
    "    to maximize the total utility such that the following constraints are satisfied:\n",
    "    1. Deadline Constraint;\n",
    "    2. Invariable Constraint;\n",
    "    3. Capacity Constraint;\n",
    "    4. Range Constraint.\n",
    "    \"\"\"\n",
    "\n",
    "    def __init__(self, filepath: str = \"../dataset/real/EverySender_cap1/data_00.txt\"):\n",
    "        assert os.path.exists(filepath)\n",
    "        pass\n",
    "\n",
    "    def next(self):\n",
    "        pass\n",
    "\n",
    "\n",
    "GOMA()"
   ]
  },
  {
   "cell_type": "markdown",
   "metadata": {},
   "source": [
    "# Baseline Algorithm: Extended Greedy-RT\n",
    "\n",
    "**Basic Idea**: first randomly choose a threshold on the weights of edges, \n",
    "\n",
    "and then randomly choose an edge incident to each newly arrived vertex among those edges whose weights are *no less than* the threshold."
   ]
  },
  {
   "cell_type": "code",
   "execution_count": 20,
   "metadata": {},
   "outputs": [
    {
     "ename": "SyntaxError",
     "evalue": "incomplete input (2180352630.py, line 10)",
     "output_type": "error",
     "traceback": [
      "\u001b[0;36m  Cell \u001b[0;32mIn[20], line 10\u001b[0;36m\u001b[0m\n\u001b[0;31m    \u001b[0m\n\u001b[0m    ^\u001b[0m\n\u001b[0;31mSyntaxError\u001b[0m\u001b[0;31m:\u001b[0m incomplete input\n"
     ]
    }
   ],
   "source": [
    "def algorithm1(problem: type[GOMA]):\n",
    "    \"\"\"\n",
    "\n",
    "    \"\"\"\n",
    "    # randomly choose a threshold (ek) on the weights of edges according to the estimated maximum weight Umax\n",
    "\n",
    "    # When a new vertex arrives, adds an edge among the ones whose weights are no less than a threshold\n",
    "    # and that satisfy all the constraints to the result\n",
    "\n",
    "    # If a worker with capacity C arrives, Algorithm 1 regards him/her as duplicates of the same worker with capacity of 1 arrivubg at the same time\n",
    "    # and processes them one by one\n",
    "\n",
    "    pass"
   ]
  },
  {
   "cell_type": "code",
   "execution_count": null,
   "metadata": {},
   "outputs": [],
   "source": []
  }
 ],
 "metadata": {
  "kernelspec": {
   "display_name": "Python 3",
   "language": "python",
   "name": "python3"
  },
  "language_info": {
   "codemirror_mode": {
    "name": "ipython",
    "version": 3
   },
   "file_extension": ".py",
   "mimetype": "text/x-python",
   "name": "python",
   "nbconvert_exporter": "python",
   "pygments_lexer": "ipython3",
   "version": "3.11.4"
  },
  "orig_nbformat": 4
 },
 "nbformat": 4,
 "nbformat_minor": 2
}
