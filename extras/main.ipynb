{
 "cells": [
  {
   "cell_type": "markdown",
   "metadata": {},
   "source": [
    "# Introduction\n",
    "\n",
    "## Explanation 1.1: Linear Programming\n",
    "\n",
    "In the offline scenario, the total utility of the optimal task assignment, which is marked in red in TABLE 1, is 17.\n",
    "\n",
    "|    | t1 | t2 | t3 | t4 | t5 | t6 |\n",
    "|----|----|----|----|----|----|----|\n",
    "| w1(1) |  7  |  1   |    |    |    |    |\n",
    "| w2(3) |    |     |  1  |    |    |    |\n",
    "| w3(2) |    |    |   9 |  1  |  1  |  1  |"
   ]
  },
  {
   "cell_type": "code",
   "execution_count": 15,
   "metadata": {},
   "outputs": [
    {
     "data": {
      "text/plain": [
       "-17.0"
      ]
     },
     "execution_count": 15,
     "metadata": {},
     "output_type": "execute_result"
    }
   ],
   "source": [
    "from scipy.optimize import linprog\n",
    "import numpy as np\n",
    "\n",
    "c = -np.array([7, 1, 0, 0, 0, 0,\n",
    "               0, 0, 1, 0, 0, 0,\n",
    "               0, 0, 9, 1, 1, 1\n",
    "               ])\n",
    "\n",
    "A_ub = [[1, 1, 1, 1, 1, 1, 0, 0, 0, 0, 0, 0, 0, 0, 0, 0, 0, 0],\n",
    "        [0, 0, 0, 0, 0, 0, 1, 1, 1, 1, 1, 1, 0, 0, 0, 0, 0, 0],\n",
    "        [0, 0, 0, 0, 0, 0, 0, 0, 0, 0, 0, 0, 1, 1, 1, 1, 1, 1],\n",
    "        [1, 0, 0, 0, 0, 0, 1, 0, 0, 0, 0, 0, 1, 0, 0, 0, 0, 0],\n",
    "        [0, 1, 0, 0, 0, 0, 0, 1, 0, 0, 0, 0, 0, 1, 0, 0, 0, 0],\n",
    "        [0, 0, 1, 0, 0, 0, 0, 0, 1, 0, 0, 0, 0, 0, 1, 0, 0, 0],\n",
    "        [0, 0, 0, 1, 0, 0, 0, 0, 0, 1, 0, 0, 0, 0, 0, 1, 0, 0],\n",
    "        [0, 0, 0, 0, 1, 0, 0, 0, 0, 0, 1, 0, 0, 0, 0, 0, 1, 0],\n",
    "        [0, 0, 0, 0, 0, 1, 0, 0, 0, 0, 0, 1, 0, 0, 0, 0, 0, 1],\n",
    "        ]\n",
    "\n",
    "b_ub = [1, 3, 2, 1, 1, 1, 1, 1, 1]\n",
    "\n",
    "bounds = [(0, 1) for _ in range(18)]\n",
    "\n",
    "res = linprog(c=c, A_ub=A_ub, b_ub=b_ub, bounds=bounds, integrality=1)\n",
    "\n",
    "res.fun"
   ]
  },
  {
   "cell_type": "code",
   "execution_count": 16,
   "metadata": {},
   "outputs": [
    {
     "data": {
      "text/plain": [
       "array([ 1.,  0.,  0.,  0.,  0.,  0.,  0.,  0., -0.,  0.,  0.,  0.,  0.,\n",
       "        0.,  1.,  0.,  0.,  1.])"
      ]
     },
     "execution_count": 16,
     "metadata": {},
     "output_type": "execute_result"
    }
   ],
   "source": [
    "res.x"
   ]
  },
  {
   "cell_type": "markdown",
   "metadata": {},
   "source": [
    "## Explanation 1.2\n",
    "\n",
    "The GOMA problem, which generalizes the OMWBM problem, mainly differs from the OMWBM problem in that both the tasks and the workers are dynamic. \n",
    "\n",
    "| Timestamp | 0  | 1  | 2 | 7 | 8 | 9 | 9 | 15 | 18 |\n",
    "|-----------|----|----|---|---|---|---|---|----|----|\n",
    "| 1st order | t1 | t2 | w1  | w2  | t3  | t4  | w3  | t5   | t6   |\n",
    "| 2nd order | w1 | t1   | t2  | t3  | w3  | t4  | w2  | t6   | t5   |\n",
    "\n",
    "see Keynote."
   ]
  },
  {
   "cell_type": "markdown",
   "metadata": {},
   "source": [
    "# Problem Statement"
   ]
  },
  {
   "cell_type": "code",
   "execution_count": null,
   "metadata": {},
   "outputs": [],
   "source": []
  }
 ],
 "metadata": {
  "kernelspec": {
   "display_name": "Python 3",
   "language": "python",
   "name": "python3"
  },
  "language_info": {
   "codemirror_mode": {
    "name": "ipython",
    "version": 3
   },
   "file_extension": ".py",
   "mimetype": "text/x-python",
   "name": "python",
   "nbconvert_exporter": "python",
   "pygments_lexer": "ipython3",
   "version": "3.11.4"
  },
  "orig_nbformat": 4
 },
 "nbformat": 4,
 "nbformat_minor": 2
}
